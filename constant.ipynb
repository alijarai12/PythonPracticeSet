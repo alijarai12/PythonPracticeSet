{
 "cells": [
  {
   "cell_type": "markdown",
   "metadata": {},
   "source": [
    "Note : there is no direct keyword or mechanism to create constants in python."
   ]
  },
  {
   "cell_type": "markdown",
   "metadata": {},
   "source": [
    "there are 4 way to feel the variable is constant."
   ]
  },
  {
   "cell_type": "code",
   "execution_count": null,
   "metadata": {},
   "outputs": [],
   "source": [
    "# 1. using UPPERCASE convention\n",
    "PI = 3.14\n",
    "\n",
    "# 2. using a module-level variable\n",
    "# create a file name constant.py and define variables there.\n",
    "# and import the file in other file.\n",
    "# import constant\n",
    "# print(constant.PI)\n",
    "\n",
    "\n",
    "# 3. using the enum module\n",
    "# from enum import Enum\n",
    "# class Constants(Enum):\n",
    "#     PI = 3.14\n",
    "\n",
    "# print(Constants.PI.value)\n",
    "\n",
    "# 4. use private variables\n",
    "# class Constants:\n",
    "#    PI = 3.14\n",
    "\n",
    "# print(Constants.PI)\n",
    "\n"
   ]
  },
  {
   "cell_type": "code",
   "execution_count": null,
   "metadata": {},
   "outputs": [],
   "source": []
  }
 ],
 "metadata": {
  "kernelspec": {
   "display_name": "myproject_kernel",
   "language": "python",
   "name": "myproject_kernel"
  },
  "language_info": {
   "name": "python",
   "version": "3.12.4"
  }
 },
 "nbformat": 4,
 "nbformat_minor": 2
}
