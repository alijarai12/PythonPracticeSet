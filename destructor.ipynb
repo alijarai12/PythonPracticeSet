{
 "cells": [
  {
   "cell_type": "markdown",
   "metadata": {},
   "source": [
    "In OOP we have two terms :- Constructor     and    Destructor"
   ]
  },
  {
   "cell_type": "markdown",
   "metadata": {},
   "source": [
    "This both concept is reverse of each other."
   ]
  },
  {
   "cell_type": "markdown",
   "metadata": {},
   "source": [
    "Desctructor is a special method which destroys objects and releases resources tied to objects. It is called automatically when object is destoryed."
   ]
  },
  {
   "cell_type": "code",
   "execution_count": 1,
   "metadata": {},
   "outputs": [
    {
     "name": "stdout",
     "output_type": "stream",
     "text": [
      "Rohit salary is 25000\n",
      "Destructor called\n"
     ]
    }
   ],
   "source": [
    "class Employee:\n",
    "    def __init__(self, nm, sal):\n",
    "        self.name = nm\n",
    "        self.salary = sal\n",
    "\n",
    "    def display(self):\n",
    "        print(f\"{self.name} salary is {self.salary}\")\n",
    "\n",
    "    def __del__(self):\n",
    "        print(\"Destructor called\")\n",
    "\n",
    "e1 = Employee(\"Rohit\", 25000)\n",
    "e1.display()\n",
    "\n",
    "del e1\n",
    "\n"
   ]
  }
 ],
 "metadata": {
  "kernelspec": {
   "display_name": "myproject_kernel",
   "language": "python",
   "name": "myproject_kernel"
  },
  "language_info": {
   "codemirror_mode": {
    "name": "ipython",
    "version": 3
   },
   "file_extension": ".py",
   "mimetype": "text/x-python",
   "name": "python",
   "nbconvert_exporter": "python",
   "pygments_lexer": "ipython3",
   "version": "3.12.4"
  }
 },
 "nbformat": 4,
 "nbformat_minor": 2
}
