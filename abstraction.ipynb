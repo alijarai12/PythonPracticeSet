{
 "cells": [
  {
   "cell_type": "markdown",
   "metadata": {},
   "source": [
    "Abstraction means hiding complex implementation details and showing only signatures to users."
   ]
  },
  {
   "cell_type": "markdown",
   "metadata": {},
   "source": [
    "How abstraction achieve in python?"
   ]
  },
  {
   "cell_type": "markdown",
   "metadata": {},
   "source": [
    "By using abc module :- ABC class , abstractmethod"
   ]
  },
  {
   "cell_type": "markdown",
   "metadata": {},
   "source": [
    "Inherit your class from ABC class"
   ]
  },
  {
   "cell_type": "markdown",
   "metadata": {},
   "source": [
    "Create abstract methods in your abstract class"
   ]
  },
  {
   "cell_type": "code",
   "execution_count": 1,
   "metadata": {},
   "outputs": [],
   "source": [
    "# syntax\n",
    "\n",
    "# from abc import  ABC, abstractmethod\n",
    "\n",
    "# class Employee(ABC):\n",
    "#     abstract methods\n",
    "#     concrete methods"
   ]
  },
  {
   "cell_type": "code",
   "execution_count": 2,
   "metadata": {},
   "outputs": [
    {
     "name": "stdout",
     "output_type": "stream",
     "text": [
      "30kmph\n",
      "blue\n",
      "20kmph\n",
      "blue\n"
     ]
    }
   ],
   "source": [
    "from abc import ABC, abstractmethod\n",
    "\n",
    "class Car(ABC):\n",
    "    @abstractmethod\n",
    "    def mileage(self):\n",
    "        pass\n",
    "\n",
    "    def color(self):\n",
    "        print(\"blue\")\n",
    "\n",
    "class Tesla(Car):\n",
    "    def mileage(self):\n",
    "        print(\"30kmph\")\n",
    "\n",
    "class Maruti(Car):\n",
    "    def mileage(self):\n",
    "        print(\"20kmph\")\n",
    "\n",
    "\n",
    "t = Tesla()\n",
    "t.mileage()\n",
    "t.color()\n",
    "\n",
    "m = Maruti()\n",
    "m.mileage()\n",
    "m.color()"
   ]
  }
 ],
 "metadata": {
  "kernelspec": {
   "display_name": "myproject_kernel",
   "language": "python",
   "name": "myproject_kernel"
  },
  "language_info": {
   "codemirror_mode": {
    "name": "ipython",
    "version": 3
   },
   "file_extension": ".py",
   "mimetype": "text/x-python",
   "name": "python",
   "nbconvert_exporter": "python",
   "pygments_lexer": "ipython3",
   "version": "3.12.4"
  }
 },
 "nbformat": 4,
 "nbformat_minor": 2
}
