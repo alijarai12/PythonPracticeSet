{
 "cells": [
  {
   "cell_type": "markdown",
   "metadata": {},
   "source": [
    "Python object when converted to byte stream is known as pickling/serialization/marshalling/flattening."
   ]
  },
  {
   "cell_type": "markdown",
   "metadata": {},
   "source": [
    "Pickling as used to transfer python objects from one server/system/application into another."
   ]
  },
  {
   "cell_type": "markdown",
   "metadata": {},
   "source": [
    "Pickled file has any extension."
   ]
  },
  {
   "cell_type": "markdown",
   "metadata": {},
   "source": [
    "Pickling:- python objects --> Byte streams"
   ]
  },
  {
   "cell_type": "markdown",
   "metadata": {},
   "source": [
    "We have 'pickle' built-in module for this."
   ]
  },
  {
   "cell_type": "markdown",
   "metadata": {},
   "source": [
    "when Byte streams are converted to the python object, this process is known as unpickling/deserialization."
   ]
  },
  {
   "cell_type": "markdown",
   "metadata": {},
   "source": [
    "unpickling:- Byte streams--> Python objects"
   ]
  },
  {
   "cell_type": "markdown",
   "metadata": {},
   "source": [
    "It is advisable not to unpickle data received from an untrusted source as they may have security threats."
   ]
  },
  {
   "cell_type": "markdown",
   "metadata": {},
   "source": [
    "pickle module has no way to identify these threats or malicious data."
   ]
  },
  {
   "cell_type": "markdown",
   "metadata": {},
   "source": [
    "How to do this?"
   ]
  },
  {
   "cell_type": "markdown",
   "metadata": {},
   "source": [
    "We have 4 functions present in 'pickle' module."
   ]
  },
  {
   "cell_type": "code",
   "execution_count": null,
   "metadata": {},
   "outputs": [],
   "source": [
    "# dump() :- py objects --> byte-streams (store into file)\n",
    "# dumps() :- py objects --> byte-streams\n",
    "# load() :- byte-streams --> py objects (read from file)\n",
    "# loads() :- byte-streams --> py objects\n"
   ]
  },
  {
   "cell_type": "code",
   "execution_count": 1,
   "metadata": {},
   "outputs": [
    {
     "name": "stdout",
     "output_type": "stream",
     "text": [
      "b'\\x80\\x04\\x95\\x1a\\x00\\x00\\x00\\x00\\x00\\x00\\x00]\\x94(\\x8c\\x05nokia\\x94K\\x0cG@6333333K e.'\n",
      "['nokia', 12, 22.2, 32]\n"
     ]
    }
   ],
   "source": [
    "import pickle\n",
    "data = ['nokia', 12, 22.2, 32]\n",
    "\n",
    "# pickling\n",
    "byte = pickle.dumps(data)\n",
    "print(byte)\n",
    "\n",
    "# unpickling\n",
    "data1 = pickle.loads(byte)\n",
    "print(data1)"
   ]
  },
  {
   "cell_type": "code",
   "execution_count": null,
   "metadata": {},
   "outputs": [],
   "source": [
    "import pickle\n",
    "\n",
    "data = ['nokia', 12, 22.2, 32]\n",
    "\n",
    "# wb - write binary\n",
    "\n",
    "f = open('file.xyz', 'wb')\n",
    "pickle.dump(data, f)\n",
    "f.close()\n"
   ]
  },
  {
   "cell_type": "code",
   "execution_count": 6,
   "metadata": {},
   "outputs": [
    {
     "name": "stdout",
     "output_type": "stream",
     "text": [
      "['nokia', 12, 22.2, 32]\n"
     ]
    }
   ],
   "source": [
    "import pickle\n",
    "\n",
    "# rb - read binary\n",
    "f1 = open('file.xyz', 'rb')\n",
    "data2 = pickle.load(f1)\n",
    "print(data2)\n",
    "f1.close()"
   ]
  },
  {
   "cell_type": "code",
   "execution_count": null,
   "metadata": {},
   "outputs": [],
   "source": [
    "\n"
   ]
  }
 ],
 "metadata": {
  "kernelspec": {
   "display_name": "myproject_kernel",
   "language": "python",
   "name": "myproject_kernel"
  },
  "language_info": {
   "codemirror_mode": {
    "name": "ipython",
    "version": 3
   },
   "file_extension": ".py",
   "mimetype": "text/x-python",
   "name": "python",
   "nbconvert_exporter": "python",
   "pygments_lexer": "ipython3",
   "version": "3.12.4"
  }
 },
 "nbformat": 4,
 "nbformat_minor": 2
}
