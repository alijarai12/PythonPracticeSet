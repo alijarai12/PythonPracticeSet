{
 "cells": [
  {
   "cell_type": "markdown",
   "metadata": {},
   "source": [
    "Three type of Constructor:- Non Paramaterized, Paramaterize, and Default Constructor."
   ]
  },
  {
   "cell_type": "markdown",
   "metadata": {},
   "source": [
    "self variable - contain the memory reference of current object."
   ]
  },
  {
   "cell_type": "code",
   "execution_count": 1,
   "metadata": {},
   "outputs": [
    {
     "name": "stdout",
     "output_type": "stream",
     "text": [
      "Rohit\n",
      "25\n"
     ]
    }
   ],
   "source": [
    "# Non-Parameterized Constructors - explicitly defined by the programmer but does not accept any parameters\n",
    "class MyClass:\n",
    "    def __init__(self):\n",
    "        self.name = \"Rohit\"\n",
    "        self.age = 25\n",
    "\n",
    "    \n",
    "obj1 = MyClass()\n",
    "print(obj1.name)\n",
    "print(obj1.age)"
   ]
  },
  {
   "cell_type": "code",
   "execution_count": null,
   "metadata": {},
   "outputs": [],
   "source": [
    "# Parameterized Constructors - accepts one or more parameters and initializes \n",
    "# the instance variables of the class with the values passed as arguments.\n",
    "class MyClass:\n",
    "    def __init__(self, name, age):\n",
    "        self.name = name\n",
    "        self.age = age\n",
    "\n",
    "obj2 = MyClass(\"Rohit\", 25)\n",
    "print(obj2.name)\n",
    "print(obj2.age)"
   ]
  },
  {
   "cell_type": "code",
   "execution_count": 2,
   "metadata": {},
   "outputs": [
    {
     "name": "stdout",
     "output_type": "stream",
     "text": [
      "John\n"
     ]
    }
   ],
   "source": [
    "# Default Constructors - does not accept any parameters. Python automatically creates\n",
    "#  a default constructor when a class does not have one defined explicitly.\n",
    "class Student:\n",
    "    def __init__(self):\n",
    "        self.name = \"John\"\n",
    "        self.age = 36\n",
    "\n",
    "s = Student()\n",
    "print(s.name)"
   ]
  },
  {
   "cell_type": "markdown",
   "metadata": {},
   "source": [
    "class members - attribute(variables) + actions(methods) "
   ]
  },
  {
   "cell_type": "markdown",
   "metadata": {},
   "source": [
    "How to access class members? We can access these variables using object outside the class. Syntax:- accessing attribute = object_name.variable_name, accessing methods = object_name.method_name()\n"
   ]
  },
  {
   "cell_type": "code",
   "execution_count": 5,
   "metadata": {},
   "outputs": [
    {
     "name": "stdout",
     "output_type": "stream",
     "text": [
      "25000\n",
      "Rohit salary is 25000\n",
      "None\n",
      "Rohit salary is 12000\n",
      "None\n"
     ]
    }
   ],
   "source": [
    "class Empolyee:\n",
    "    def __init__(self, name, salary):\n",
    "        self.name = name\n",
    "        self.salary = salary\n",
    "\n",
    "    def display(self):\n",
    "        print(f\"{self.name} salary is {self.salary}\")\n",
    "\n",
    "e = Empolyee(\"Rohit\", 25000)\n",
    "\n",
    "print(e.salary)\n",
    "print(e.display())\n",
    "e.salary = 12000\n",
    "print(e.display())\n"
   ]
  },
  {
   "cell_type": "markdown",
   "metadata": {},
   "source": [
    "Built-in class functions :- "
   ]
  },
  {
   "cell_type": "code",
   "execution_count": 21,
   "metadata": {},
   "outputs": [
    {
     "name": "stdout",
     "output_type": "stream",
     "text": [
      "Shreya\n",
      "Joy\n",
      "False\n",
      "{'name': 'Akshay', 'salary': 85000}\n"
     ]
    }
   ],
   "source": [
    "# getattr(object_name, attribute_name)\n",
    "# setattr(object_name, attribute_name, new_value)\n",
    "# delattr(object_name, attribute_name)\n",
    "# hasattr(object_name, attribute_name)\n",
    "\n",
    "e2 = Empolyee(\"Shreya\", 65000)\n",
    "e3 = Empolyee(\"Akshay\", 85000)\n",
    "print(getattr(e2, 'name'))\n",
    "setattr(e2, 'name', 'Joy')\n",
    "print(e2.name)\n",
    "\n",
    "delattr(e2, 'name')\n",
    "print(hasattr(e2, 'name'))\n",
    "print(e3.__dict__)\n"
   ]
  },
  {
   "cell_type": "markdown",
   "metadata": {},
   "source": [
    "Built-in class atrributes :-"
   ]
  },
  {
   "cell_type": "code",
   "execution_count": 23,
   "metadata": {},
   "outputs": [
    {
     "name": "stdout",
     "output_type": "stream",
     "text": [
      "This is an Employee class\n",
      "{'__module__': '__main__', '__doc__': 'This is an Employee class', '__init__': <function Empolyee.__init__ at 0x000001EFA90B82C0>, 'display': <function Empolyee.display at 0x000001EFA90B8220>, '__dict__': <attribute '__dict__' of 'Empolyee' objects>, '__weakref__': <attribute '__weakref__' of 'Empolyee' objects>}\n",
      "Empolyee\n"
     ]
    }
   ],
   "source": [
    "# __dict__ : dictionary containing the class's namespace\n",
    "# __doc__ : class documentation string\n",
    "# __name__ : class name\n",
    "# __module__ : class module\n",
    "# __bases__ : a possibly empty tuple of the class's base classes\n",
    "\n",
    "class Empolyee:\n",
    "    '''This is an Employee class'''\n",
    "    def __init__(self, name, salary):\n",
    "        self.name = name\n",
    "        self.salary = salary\n",
    "\n",
    "    def display(self):\n",
    "        print(f\"{self.name} salary is {self.salary}\")\n",
    "\n",
    "e = Empolyee(\"Rohit\", 25000)\n",
    "\n",
    "print(Empolyee.__doc__)\n",
    "print(Empolyee.__dict__)\n",
    "print(Empolyee.__name__)"
   ]
  },
  {
   "cell_type": "markdown",
   "metadata": {},
   "source": [
    "isinstance() function syntax:- isinstance(obj, classname)"
   ]
  },
  {
   "cell_type": "code",
   "execution_count": 25,
   "metadata": {},
   "outputs": [
    {
     "data": {
      "text/plain": [
       "True"
      ]
     },
     "execution_count": 25,
     "metadata": {},
     "output_type": "execute_result"
    }
   ],
   "source": [
    "class Empolyee:\n",
    "    '''This is an Employee class'''\n",
    "    def __init__(self, name, salary):\n",
    "        self.name = name\n",
    "        self.salary = salary\n",
    "\n",
    "    def display(self):\n",
    "        print(f\"{self.name} salary is {self.salary}\")\n",
    "\n",
    "e = Empolyee(\"Rohit\", 25000)\n",
    "\n",
    "isinstance(e, Empolyee)"
   ]
  },
  {
   "cell_type": "markdown",
   "metadata": {},
   "source": [
    "Types of variable :- instance variable, class variable"
   ]
  },
  {
   "cell_type": "markdown",
   "metadata": {},
   "source": [
    "instance variables"
   ]
  },
  {
   "cell_type": "code",
   "execution_count": 26,
   "metadata": {},
   "outputs": [],
   "source": [
    "# instance variables\n",
    "# variables are made for particular instance.\n",
    "# seperate copy is created for every object.\n",
    "# values of variables differs from object to object.\n",
    "# modification in one obejct wont effect other objects.\n",
    "\n",
    "class Student:\n",
    "    def __init__(self, name, age):\n",
    "        self.name = name\n",
    "        self.age = age\n",
    "\n",
    "s = Student(\"Ram\", 25)\n",
    "s2 = Student(\"Shyam\", 26)"
   ]
  },
  {
   "cell_type": "code",
   "execution_count": 27,
   "metadata": {},
   "outputs": [],
   "source": [
    "# We can create an instance variables :\n",
    "# using constructor\n",
    "# using instance method\n",
    "# outside class"
   ]
  },
  {
   "cell_type": "code",
   "execution_count": 30,
   "metadata": {},
   "outputs": [
    {
     "name": "stdout",
     "output_type": "stream",
     "text": [
      "Ram is 25 years old\n"
     ]
    }
   ],
   "source": [
    "# instance method\n",
    "class Student:\n",
    "    def __init__(self, name, age):\n",
    "        self.name = name\n",
    "        self.age = age\n",
    "\n",
    "    def display(self):\n",
    "        print(f\"{self.name} is {self.age} years old\")\n",
    "\n",
    "s = Student(\"Ram\", 25)\n",
    "\n",
    "s.display()\n"
   ]
  },
  {
   "cell_type": "markdown",
   "metadata": {},
   "source": [
    "Class variables"
   ]
  },
  {
   "cell_type": "code",
   "execution_count": 32,
   "metadata": {},
   "outputs": [
    {
     "name": "stdout",
     "output_type": "stream",
     "text": [
      "IIT\n"
     ]
    }
   ],
   "source": [
    "# class variables\n",
    "# variables are made for entire class (all objects)\n",
    "# only one copy is created and distributed to all objects.\n",
    "# modification in class variable impact on all objects.\n",
    "\n",
    "class Student:\n",
    "    colleges = \"IIT\" # class variable\n",
    "    def __init__(self, name, age):\n",
    "        self.name = name\n",
    "        self.age = age\n",
    "\n",
    "s = Student(\"Ram\", 25)\n",
    "\n",
    "print(Student.colleges)"
   ]
  },
  {
   "cell_type": "code",
   "execution_count": 34,
   "metadata": {},
   "outputs": [
    {
     "name": "stdout",
     "output_type": "stream",
     "text": [
      "IIT is the college\n"
     ]
    }
   ],
   "source": [
    "# class methods\n",
    "# method which works on class variables\n",
    "# first argument is class reference\n",
    "# made using decorator @classmethod\n",
    "\n",
    "class Student:\n",
    "    colleges = \"IIT\"\n",
    "    def __init__(self, name, age):\n",
    "        self.name = name\n",
    "        self.age = age\n",
    "\n",
    "    @classmethod\n",
    "    def display(cls):\n",
    "        print(f\"{cls.colleges} is the college\")\n",
    "\n",
    "s = Student(\"Ram\", 25)\n",
    "\n",
    "Student.display()"
   ]
  },
  {
   "cell_type": "markdown",
   "metadata": {},
   "source": [
    "setter and getter methods"
   ]
  },
  {
   "cell_type": "code",
   "execution_count": 37,
   "metadata": {},
   "outputs": [
    {
     "name": "stdout",
     "output_type": "stream",
     "text": [
      "s1 object is : {'name': 'alija'}\n",
      "Name is :  alija\n",
      "None\n"
     ]
    }
   ],
   "source": [
    "# setter method - set values of instance variable\n",
    "# getter method - get values of instance variable\n",
    "\n",
    "class Student:\n",
    "    def setName(self, name): # setter method\n",
    "        self.name = name\n",
    "\n",
    "    def getName(self): # getter method\n",
    "        print (\"Name is : \", self.name)\n",
    "    \n",
    "\n",
    "s1 = Student()\n",
    "s1.setName(input(\"Enter name : \"))\n",
    "print(\"s1 object is :\", s1.__dict__)\n",
    "\n",
    "print(s1.getName())\n"
   ]
  },
  {
   "cell_type": "markdown",
   "metadata": {},
   "source": [
    "Static methods"
   ]
  },
  {
   "cell_type": "code",
   "execution_count": 38,
   "metadata": {},
   "outputs": [
    {
     "name": "stdout",
     "output_type": "stream",
     "text": [
      "170.0\n"
     ]
    }
   ],
   "source": [
    "# static methods\n",
    "# methods which performs operations on external data\n",
    "# it can also perform operations on class data\n",
    "# no need to pass object or class reference\n",
    "# created using decorator @staticmethod\n",
    "\n",
    "class Bank:\n",
    "    bank = 'nabil'\n",
    "    rate = 8.5\n",
    "\n",
    "    @staticmethod\n",
    "    def simple_interest(p, t):\n",
    "        si = (p * t * Bank.rate) / 100\n",
    "        print(si)\n",
    "\n",
    "    \n",
    "Bank.simple_interest(1000, 2)\n"
   ]
  }
 ],
 "metadata": {
  "kernelspec": {
   "display_name": "myproject_kernel",
   "language": "python",
   "name": "myproject_kernel"
  },
  "language_info": {
   "codemirror_mode": {
    "name": "ipython",
    "version": 3
   },
   "file_extension": ".py",
   "mimetype": "text/x-python",
   "name": "python",
   "nbconvert_exporter": "python",
   "pygments_lexer": "ipython3",
   "version": "3.12.4"
  }
 },
 "nbformat": 4,
 "nbformat_minor": 2
}
