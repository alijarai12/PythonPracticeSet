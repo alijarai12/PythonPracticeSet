{
 "cells": [
  {
   "cell_type": "markdown",
   "metadata": {},
   "source": [
    "Polymorphism in python is an ability of python object to take many forms. If a variable, object, method performs different behaviour according to situation is called as polymorphism."
   ]
  },
  {
   "cell_type": "code",
   "execution_count": 7,
   "metadata": {},
   "outputs": [
    {
     "name": "stdout",
     "output_type": "stream",
     "text": [
      "30\n",
      "helloworld\n"
     ]
    },
    {
     "data": {
      "text/plain": [
       "5"
      ]
     },
     "execution_count": 7,
     "metadata": {},
     "output_type": "execute_result"
    }
   ],
   "source": [
    "# python object \n",
    "# here plus operator is performing different behaviour in different situations. \n",
    "\n",
    "print(10 + 20)\n",
    "print(\"hello\" + \"world\")\n",
    "\n",
    "len(\"hello\") # 5 , count number of characters\n",
    "\n",
    "len(['h', 'e', 'llo']) # 3 , count number of items\n",
    "\n",
    "\n",
    "dictionary = {'a': 1, 'b': 2, 'c': 3, 'd': 4, 'e': 5}\n",
    "\n",
    "len(dictionary)  # number of keys\n"
   ]
  },
  {
   "cell_type": "markdown",
   "metadata": {},
   "source": [
    "Over-riding built-in functions"
   ]
  },
  {
   "cell_type": "code",
   "execution_count": 10,
   "metadata": {},
   "outputs": [
    {
     "name": "stdout",
     "output_type": "stream",
     "text": [
      "This is cart clas object\n"
     ]
    }
   ],
   "source": [
    "#  __str__ method is a built-in method of python object.\n",
    "# In this class we are overriding built-in str() method.\n",
    "\n",
    "class Cart:\n",
    "    def __str__(self):\n",
    "        return \"This is cart clas object\"\n",
    "\n",
    "c1 = Cart()\n",
    "\n",
    "print(c1)"
   ]
  },
  {
   "cell_type": "code",
   "execution_count": 14,
   "metadata": {},
   "outputs": [
    {
     "name": "stdout",
     "output_type": "stream",
     "text": [
      "total no of items in cart :\n",
      "7\n"
     ]
    }
   ],
   "source": [
    "class Cart:\n",
    "    def __init__(self, basket1, basket2, basket3):\n",
    "        self.clothes = basket1\n",
    "        self.books = basket2\n",
    "        self.other = basket3\n",
    "\n",
    "    def __len__(self):\n",
    "        print(\"total no of items in cart :\")\n",
    "        return len(self.clothes) + len(self.books) + len(self.other)\n",
    "\n",
    "my_items = Cart(['onepiece', 'jacket', 'shirt'], ['dsa', 'oop', 'c'], ['chair'])\n",
    "print(len(my_items))\n"
   ]
  },
  {
   "cell_type": "markdown",
   "metadata": {},
   "source": [
    "Polymorphism in functions and objects"
   ]
  },
  {
   "cell_type": "code",
   "execution_count": 15,
   "metadata": {},
   "outputs": [
    {
     "name": "stdout",
     "output_type": "stream",
     "text": [
      "Diesel\n",
      "max speed is 250 kmph\n"
     ]
    }
   ],
   "source": [
    "class BMW:\n",
    "    def fuel_type(self):\n",
    "        print(\"Diesel\")\n",
    "\n",
    "    def max_speed(self):\n",
    "        print(\"max speed is 250 kmph\")\n",
    "\n",
    "class AUDI:\n",
    "    def fuel_type(self):\n",
    "        print(\"Petrol\")\n",
    "\n",
    "    def max_speed(self):\n",
    "        print(\"max speed is 120 kmph\")\n",
    "\n",
    "\n",
    "def car_details(obj):\n",
    "    obj.fuel_type()\n",
    "    obj.max_speed()\n",
    "\n",
    "\n",
    "bmw = BMW()\n",
    "car_details(bmw)\n",
    "\n"
   ]
  },
  {
   "cell_type": "markdown",
   "metadata": {},
   "source": [
    "Polymorphism with Inheritance"
   ]
  },
  {
   "cell_type": "code",
   "execution_count": 21,
   "metadata": {},
   "outputs": [
    {
     "name": "stdout",
     "output_type": "stream",
     "text": [
      "Name: Toyota, Color: Blue, Price: 100000\n",
      "max speed is 100 kmph\n",
      "max speed is 200 kmph\n",
      "gear is 5\n",
      "gear is 6\n"
     ]
    }
   ],
   "source": [
    "class Vehicle:\n",
    "    def __init__(self, name, color, price):\n",
    "        self.name = name\n",
    "        self.color = color\n",
    "        self.price = price\n",
    "\n",
    "    def get_details(self):\n",
    "        return f\"Name: {self.name}, Color: {self.color}, Price: {self.price}\"\n",
    "\n",
    "    def max_speed(self):\n",
    "        print(\"max speed is 100 kmph\")\n",
    "\n",
    "    def gear(self):\n",
    "        print(\"gear is 5\")\n",
    "\n",
    "\n",
    "class Car(Vehicle):\n",
    "    def max_speed(self):\n",
    "        print(\"max speed is 200 kmph\")\n",
    "\n",
    "    def gear(self):\n",
    "        print(\"gear is 6\")\n",
    "\n",
    "v1 = Vehicle(\"Toyota\", \"Blue\", 100000)\n",
    "\n",
    "c1 = Car(\"car\", \"silver\", 300000)\n",
    "\n",
    "print(v1.get_details())\n",
    "c1.get_details()\n",
    "\n",
    "v1.max_speed()\n",
    "c1.max_speed()\n",
    "\n",
    "v1.gear()\n",
    "c1.gear()\n",
    "\n",
    "    \n"
   ]
  },
  {
   "cell_type": "markdown",
   "metadata": {},
   "source": [
    "Operator Overloading"
   ]
  },
  {
   "cell_type": "markdown",
   "metadata": {},
   "source": [
    "When same operator behaves differently depending on values then it is operator overloading. You can assign a new meaning to operators also and you can extend functionality of operators. You can change default behaviour of operator using over-riding."
   ]
  },
  {
   "cell_type": "code",
   "execution_count": 26,
   "metadata": {},
   "outputs": [
    {
     "name": "stdout",
     "output_type": "stream",
     "text": [
      "30\n",
      "30\n",
      "30\n",
      "['__abs__', '__add__', '__and__', '__bool__', '__ceil__', '__class__', '__delattr__', '__dir__', '__divmod__', '__doc__', '__eq__', '__float__', '__floor__', '__floordiv__', '__format__', '__ge__', '__getattribute__', '__getnewargs__', '__getstate__', '__gt__', '__hash__', '__index__', '__init__', '__init_subclass__', '__int__', '__invert__', '__le__', '__lshift__', '__lt__', '__mod__', '__mul__', '__ne__', '__neg__', '__new__', '__or__', '__pos__', '__pow__', '__radd__', '__rand__', '__rdivmod__', '__reduce__', '__reduce_ex__', '__repr__', '__rfloordiv__', '__rlshift__', '__rmod__', '__rmul__', '__ror__', '__round__', '__rpow__', '__rrshift__', '__rshift__', '__rsub__', '__rtruediv__', '__rxor__', '__setattr__', '__sizeof__', '__str__', '__sub__', '__subclasshook__', '__truediv__', '__trunc__', '__xor__', 'as_integer_ratio', 'bit_count', 'bit_length', 'conjugate', 'denominator', 'from_bytes', 'imag', 'is_integer', 'numerator', 'real', 'to_bytes']\n"
     ]
    }
   ],
   "source": [
    "num1 = 10\n",
    "num2 = 20\n",
    "\n",
    "print(num1+num2)\n",
    "\n",
    "print(num1.__add__(num2))\n",
    "\n",
    "print(int.__add__(num1, num2))\n",
    "\n",
    "print(dir(int))\n",
    "\n",
    "\n",
    "\n"
   ]
  },
  {
   "cell_type": "code",
   "execution_count": 33,
   "metadata": {},
   "outputs": [
    {
     "name": "stdout",
     "output_type": "stream",
     "text": [
      "total no of pages 900\n"
     ]
    }
   ],
   "source": [
    "class Book:\n",
    "    def __init__(self, title, page):\n",
    "        self.title = title\n",
    "        self.page = page\n",
    "\n",
    "    def __add__(self, other):\n",
    "        total_page = self.page + other.page\n",
    "        return Book('All book', total_page)\n",
    "    \n",
    "    def __str__(self):\n",
    "        return str(self.page)\n",
    "\n",
    "b1 = Book('python', 200)\n",
    "b2 = Book('java', 300)\n",
    "b3 = Book('c++', 400)\n",
    "\n",
    "print(\"total no of pages\", b1+b2+b3)"
   ]
  },
  {
   "cell_type": "markdown",
   "metadata": {},
   "source": [
    "Overloading Comparison Operator"
   ]
  },
  {
   "cell_type": "code",
   "execution_count": 35,
   "metadata": {},
   "outputs": [
    {
     "name": "stdout",
     "output_type": "stream",
     "text": [
      "True\n"
     ]
    }
   ],
   "source": [
    "class Hotel:\n",
    "    def __init__(self, name, fare):\n",
    "        self.name = name\n",
    "        self.fare = fare\n",
    "\n",
    "    def __gt__(self, other):  # (h1,h2)\n",
    "        return self.fare > other.fare    # (h1.fare > h2.fare)\n",
    "\n",
    "h1 = Hotel(\"hotel1\", 4000)\n",
    "h2 = Hotel(\"hotel2\", 2000)\n",
    "\n",
    "print(h1>h2)"
   ]
  },
  {
   "cell_type": "markdown",
   "metadata": {},
   "source": [
    "Method Overloading "
   ]
  },
  {
   "cell_type": "markdown",
   "metadata": {},
   "source": [
    "when a class contain 2 or more methods with same name but different behaviour is called as method overloading."
   ]
  },
  {
   "cell_type": "markdown",
   "metadata": {},
   "source": [
    "there is no method overloading concept in python."
   ]
  },
  {
   "cell_type": "code",
   "execution_count": 36,
   "metadata": {},
   "outputs": [
    {
     "name": "stdout",
     "output_type": "stream",
     "text": [
      "addition is 30\n",
      "addition is 60\n"
     ]
    }
   ],
   "source": [
    "class Addition:\n",
    "    def add(self, num1=None, num2=None, num3=None):\n",
    "        if num1!= None and num2!= None and num3!= None:\n",
    "            print(\"addition is\", num1+num2+num3)\n",
    "        elif num1!= None and num2!= None:\n",
    "            print(\"addition is\", num1+num2)\n",
    "        else:\n",
    "            print(\"incorrect parameters\")\n",
    "\n",
    "a1 = Addition()\n",
    "a1.add(10, 20)\n",
    "a1.add(10, 20, 30)            "
   ]
  },
  {
   "cell_type": "markdown",
   "metadata": {},
   "source": [
    "Nested Class - The class which is declared inside another class. It is required when one class object cannot exist without another class object."
   ]
  },
  {
   "cell_type": "code",
   "execution_count": 37,
   "metadata": {},
   "outputs": [
    {
     "name": "stdout",
     "output_type": "stream",
     "text": [
      "name is: sonam and roll is: 101\n",
      "Date of birth is: 23/12/1997\n"
     ]
    }
   ],
   "source": [
    "class Student:\n",
    "    def __init__(self, name, roll, dd, mm, yy):\n",
    "        self.name = name\n",
    "        self.roll = roll\n",
    "        self.dob = self.DOB(dd, mm, yy)\n",
    "\n",
    "    \n",
    "    def display(self):\n",
    "        print(f\"name is: {self.name} and roll is: {self.roll}\")\n",
    "        self.dob.display()\n",
    "    \n",
    "\n",
    "    class DOB:\n",
    "        def __init__(self, dd, mm, yy):\n",
    "            self.dd = dd\n",
    "            self.mm = mm\n",
    "            self.yy = yy\n",
    "\n",
    "        def display(self):\n",
    "            print(f\"Date of birth is: {self.dd}/{self.mm}/{self.yy}\")\n",
    "\n",
    "s1 = Student(\"sonam\", 101, 23, 12, 1997)\n",
    "s1.display()\n",
    "\n",
    "\n"
   ]
  }
 ],
 "metadata": {
  "kernelspec": {
   "display_name": "myproject_kernel",
   "language": "python",
   "name": "myproject_kernel"
  },
  "language_info": {
   "codemirror_mode": {
    "name": "ipython",
    "version": 3
   },
   "file_extension": ".py",
   "mimetype": "text/x-python",
   "name": "python",
   "nbconvert_exporter": "python",
   "pygments_lexer": "ipython3",
   "version": "3.12.4"
  }
 },
 "nbformat": 4,
 "nbformat_minor": 2
}
