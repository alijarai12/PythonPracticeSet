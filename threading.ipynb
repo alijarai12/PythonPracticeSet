{
 "cells": [
  {
   "cell_type": "markdown",
   "metadata": {},
   "source": [
    "A thread is a operating system object that executes instructions/program. "
   ]
  },
  {
   "cell_type": "markdown",
   "metadata": {},
   "source": [
    "A thread is a seperate of execution in program. It represent task/sub program."
   ]
  },
  {
   "cell_type": "code",
   "execution_count": null,
   "metadata": {},
   "outputs": [],
   "source": [
    "# Advantages of Multithreading\n",
    "# improve performance of the system or application\n",
    "# reduce response time of website or application\n",
    "# Normal program :- 1 flow\n",
    "# program with n theads :- n flows\n",
    "\n",
    "# Example : Application\n",
    "# video games\n",
    "# multi-media\n",
    "# animation\n",
    "# web servers\n"
   ]
  },
  {
   "cell_type": "code",
   "execution_count": null,
   "metadata": {},
   "outputs": [],
   "source": [
    "# How to achieve multithreading in python?\n",
    "# by using threading module"
   ]
  },
  {
   "cell_type": "code",
   "execution_count": 7,
   "metadata": {},
   "outputs": [
    {
     "name": "stdout",
     "output_type": "stream",
     "text": [
      "<_MainThread(MainThread, started 19416)>\n",
      "MainThread\n",
      "19416\n",
      "<bound method Thread.is_alive of <_MainThread(MainThread, started 19416)>>\n"
     ]
    }
   ],
   "source": [
    "# threads are python objects of threading.Thread() class\n",
    "\n",
    "import threading\n",
    "print(threading.current_thread())\n",
    "print(threading.current_thread().name)\n",
    "print(threading.current_thread().ident)\n",
    "print(threading.current_thread().is_alive)"
   ]
  },
  {
   "cell_type": "code",
   "execution_count": null,
   "metadata": {},
   "outputs": [],
   "source": [
    "# 2 ways of creating thread\n",
    "\n",
    "# 1. by using thread class in threading module\n",
    "# 2. by extending thread class"
   ]
  },
  {
   "cell_type": "code",
   "execution_count": 12,
   "metadata": {},
   "outputs": [
    {
     "name": "stdout",
     "output_type": "stream",
     "text": [
      "hello\n",
      "hello\n",
      "hello\n",
      "hello\n"
     ]
    }
   ],
   "source": [
    "# 1. import thread class from threading module\n",
    "# 2. create a function containing code to be executed parallelly\n",
    "# 3. create new thread here\n",
    "# 4. start the thread\n",
    "\n",
    "from threading import Thread\n",
    "\n",
    "def display(n, msg):\n",
    "    for i in range(n):\n",
    "        print(msg)\n",
    "\n",
    "t = Thread(target = display, args = (4, \"hello\"))\n",
    "t.start()"
   ]
  },
  {
   "cell_type": "code",
   "execution_count": 17,
   "metadata": {},
   "outputs": [
    {
     "name": "stdout",
     "output_type": "stream",
     "text": [
      "t thread details 19572\n",
      "hello\n",
      "hello\n",
      "hello\n",
      "hello\n",
      "welcome\n",
      "welcome\n",
      "welcome\n",
      "welcome\n",
      "welcome\n"
     ]
    }
   ],
   "source": [
    "# 1. import thread class from threading module\n",
    "# 2. create a function containing code to be executed parallelly\n",
    "# 3. create new thread here\n",
    "# 4. start the thread\n",
    "\n",
    "from threading import Thread, current_thread\n",
    "\n",
    "def display(n, msg):\n",
    "    print(\"t thread details\", current_thread().ident)\n",
    "    for i in range(n):\n",
    "        print(msg)\n",
    "\n",
    "t = Thread(target = display, kwargs ={'n': 4, 'msg': \"hello\"} )\n",
    "t.start()\n",
    "\n",
    "\n",
    "for i in range(5):\n",
    "    print(\"welcome\")"
   ]
  },
  {
   "cell_type": "code",
   "execution_count": 20,
   "metadata": {},
   "outputs": [
    {
     "name": "stdout",
     "output_type": "stream",
     "text": [
      "hello world\n",
      "hello world\n",
      "hello world\n",
      "hello world\n"
     ]
    }
   ],
   "source": [
    "# thread for method\n",
    "\n",
    "from threading import Thread\n",
    "\n",
    "class Example:\n",
    "\n",
    "    def display(self, n):\n",
    "        for i in range(n):\n",
    "            print(\"hello world\")\n",
    "\n",
    "e1 = Example()\n",
    "t = Thread(target = e1.display, args=(4,))\n",
    "t.start()\n"
   ]
  },
  {
   "cell_type": "code",
   "execution_count": 26,
   "metadata": {},
   "outputs": [
    {
     "name": "stdout",
     "output_type": "stream",
     "text": [
      "oops started uploading\n",
      "checking copy right\n",
      "checking copy right\n",
      "checking copy right\n"
     ]
    },
    {
     "name": "stdout",
     "output_type": "stream",
     "text": [
      "oops uploaded\n",
      "constructor started uploading\n",
      "constructor uploaded\n",
      "inheritance started uploading\n",
      "inheritance uploaded\n"
     ]
    }
   ],
   "source": [
    "# creating thread by extending Thread class\n",
    "\n",
    "from threading import Thread\n",
    "from time import sleep\n",
    "\n",
    "videos = [\"oops\", \"constructor\", \"inheritance\"]\n",
    "\n",
    "class MyClass(Thread):\n",
    "\n",
    "    def run(self):\n",
    "        for vid in videos:\n",
    "            print(f\"{vid} started uploading\")\n",
    "            sleep(3)\n",
    "            print(f\"{vid} uploaded\")\n",
    "\n",
    "t1 = MyClass()\n",
    "t1.start()\n",
    "\n",
    "for i in range(3):\n",
    "    sleep(0.6)\n",
    "    print(\"checking copy right\")"
   ]
  }
 ],
 "metadata": {
  "kernelspec": {
   "display_name": "myproject_kernel",
   "language": "python",
   "name": "myproject_kernel"
  },
  "language_info": {
   "codemirror_mode": {
    "name": "ipython",
    "version": 3
   },
   "file_extension": ".py",
   "mimetype": "text/x-python",
   "name": "python",
   "nbconvert_exporter": "python",
   "pygments_lexer": "ipython3",
   "version": "3.12.4"
  }
 },
 "nbformat": 4,
 "nbformat_minor": 2
}
