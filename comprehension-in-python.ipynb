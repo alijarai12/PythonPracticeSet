{
 "cells": [
  {
   "cell_type": "markdown",
   "metadata": {},
   "source": [
    "Comprehension is a way of writing a compact code in python. There are 3 type of comprehension. List comprehension, Set comprehension, Dictionary comprehension."
   ]
  },
  {
   "cell_type": "markdown",
   "metadata": {},
   "source": [
    "List comprehension Syntax : "
   ]
  },
  {
   "cell_type": "markdown",
   "metadata": {},
   "source": [
    "Syntax 1:- Normal \n",
    "[expression for variable in iterable]\n"
   ]
  },
  {
   "cell_type": "code",
   "execution_count": 5,
   "metadata": {},
   "outputs": [
    {
     "name": "stdout",
     "output_type": "stream",
     "text": [
      "[9, 36, 49, 144, 196, 225]\n"
     ]
    }
   ],
   "source": [
    "nums = [3,6,7,12,14,15]\n",
    "sq = []\n",
    "for num in nums:\n",
    "    a= num * num\n",
    "    sq.append(a)\n",
    "\n",
    "print(sq)"
   ]
  },
  {
   "cell_type": "code",
   "execution_count": 9,
   "metadata": {},
   "outputs": [
    {
     "name": "stdout",
     "output_type": "stream",
     "text": [
      "[9, 36, 49, 144, 196, 225]\n"
     ]
    }
   ],
   "source": [
    "nums = [3,6,7,12,14,15]\n",
    "a = [num * num for num in nums]\n",
    "print(a)"
   ]
  },
  {
   "cell_type": "markdown",
   "metadata": {},
   "source": [
    "Syntax 2:- If condition  \n",
    "[expression for variable in iterable if cond]"
   ]
  },
  {
   "cell_type": "code",
   "execution_count": 10,
   "metadata": {},
   "outputs": [
    {
     "name": "stdout",
     "output_type": "stream",
     "text": [
      "[6, 12, 14]\n"
     ]
    }
   ],
   "source": [
    "nums = [3,6,7,12,14,15]\n",
    "ev = []\n",
    "for num in nums:\n",
    "    if num % 2 == 0:\n",
    "        res = num \n",
    "        ev.append(res)\n",
    "print(ev)"
   ]
  },
  {
   "cell_type": "code",
   "execution_count": 11,
   "metadata": {},
   "outputs": [
    {
     "name": "stdout",
     "output_type": "stream",
     "text": [
      "[6, 12, 14]\n"
     ]
    }
   ],
   "source": [
    "nums = [3,6,7,12,14,15]\n",
    "result = [num for num in nums if num % 2 == 0]\n",
    "print(result)"
   ]
  },
  {
   "cell_type": "markdown",
   "metadata": {},
   "source": [
    "Syntax 3:- Nested if \n",
    "[expression for variable in iterable if cond1 if cond2]"
   ]
  },
  {
   "cell_type": "markdown",
   "metadata": {},
   "source": [
    "Syntax 4:- If-else \n",
    "[expression if cond else expression for variable in iterable]\n"
   ]
  },
  {
   "cell_type": "markdown",
   "metadata": {},
   "source": [
    "Dictionary comprehension Syntax:"
   ]
  },
  {
   "cell_type": "markdown",
   "metadata": {},
   "source": [
    "Syntax: {key: value for (key, value) in iterable}"
   ]
  },
  {
   "cell_type": "code",
   "execution_count": 12,
   "metadata": {},
   "outputs": [
    {
     "name": "stdout",
     "output_type": "stream",
     "text": [
      "{1: 1, 2: 4, 3: 9, 4: 16, 5: 25}\n"
     ]
    }
   ],
   "source": [
    "nums = [1,2,3,4,5]\n",
    "# op = {1:1, 2:4, 3:9, 4:16, 5:25}\n",
    "\n",
    "my_dict = {}\n",
    "for num in nums:\n",
    "    my_dict[num]=num**2\n",
    "print(my_dict)"
   ]
  },
  {
   "cell_type": "code",
   "execution_count": 13,
   "metadata": {},
   "outputs": [
    {
     "name": "stdout",
     "output_type": "stream",
     "text": [
      "{1: 1, 2: 4, 3: 9, 4: 16, 5: 25}\n"
     ]
    }
   ],
   "source": [
    "nums = [1,2,3,4,5]\n",
    "print({num:num**2 for num in nums})"
   ]
  }
 ],
 "metadata": {
  "kernelspec": {
   "display_name": "myproject_kernel",
   "language": "python",
   "name": "myproject_kernel"
  },
  "language_info": {
   "codemirror_mode": {
    "name": "ipython",
    "version": 3
   },
   "file_extension": ".py",
   "mimetype": "text/x-python",
   "name": "python",
   "nbconvert_exporter": "python",
   "pygments_lexer": "ipython3",
   "version": "3.12.4"
  }
 },
 "nbformat": 4,
 "nbformat_minor": 2
}
