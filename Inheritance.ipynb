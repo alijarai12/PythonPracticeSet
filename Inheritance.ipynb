{
 "cells": [
  {
   "cell_type": "markdown",
   "metadata": {},
   "source": [
    "super() function"
   ]
  },
  {
   "cell_type": "code",
   "execution_count": 3,
   "metadata": {},
   "outputs": [
    {
     "name": "stdout",
     "output_type": "stream",
     "text": [
      "coputer class constructor called\n",
      "mobile class constructor called\n",
      "{'ram': 16, 'cpu': 'i5', 'model': 'iphone 12'}\n"
     ]
    }
   ],
   "source": [
    "class Computer:\n",
    "    def __init__(self, ram, cpu):\n",
    "        self.ram = ram\n",
    "        self.cpu = cpu\n",
    "        print('coputer class constructor called')\n",
    "\n",
    "class Mobile(Computer):\n",
    "    def __init__(self, ram, cpu):\n",
    "        super().__init__(ram, cpu)\n",
    "        self.model = 'iphone 12'\n",
    "        print('mobile class constructor called')\n",
    "\n",
    "apple = Mobile(16, 'i5')\n",
    "print(apple.__dict__)"
   ]
  },
  {
   "cell_type": "markdown",
   "metadata": {},
   "source": [
    "Type of Inheritance :-"
   ]
  },
  {
   "cell_type": "code",
   "execution_count": 6,
   "metadata": {},
   "outputs": [
    {
     "name": "stdout",
     "output_type": "stream",
     "text": [
      "manager class constructor called\n",
      "{'bonus': 122}\n"
     ]
    }
   ],
   "source": [
    "# single inheritance\n",
    "# multi-level inheritance\n",
    "# hierarchical inheritance\n",
    "# multiple inheritance\n",
    "# hybrid inheritance\n",
    "\n",
    "\n",
    "# single inheritance - 1 parent, 1 child\n",
    "\n",
    "# multi-level inheritance - 2 parents, 1 child\n",
    "\n",
    "class Person:\n",
    "    def __init__(self):\n",
    "        print('person class constructor called')\n",
    "        self.name = input('enter name')\n",
    "\n",
    "class Employee(Person):\n",
    "    def __init__(self):\n",
    "        print('employee class constructor called')\n",
    "        self.salary = int(input('enter salary'))\n",
    "\n",
    "class Manager(Employee):\n",
    "    def __init__(self):\n",
    "        print('manager class constructor called')\n",
    "        self.bonus = int(input('enter bonus'))\n",
    "\n",
    "\n",
    "emp = Manager()\n",
    "print(emp.__dict__)\n",
    "\n",
    "\n",
    "# hybrid inheritance - 2 parents, 2 children\n"
   ]
  },
  {
   "cell_type": "code",
   "execution_count": 20,
   "metadata": {},
   "outputs": [
    {
     "name": "stdout",
     "output_type": "stream",
     "text": [
      "{'name': 'joy', 'age': 25, 'marks': 90}\n",
      "riya 10000\n",
      "None\n"
     ]
    }
   ],
   "source": [
    "# hierarchical inheritance - 1 parent,  n childs\n",
    "\n",
    "class Person:\n",
    "    def __init__(self, name, age):\n",
    "        self.name = name\n",
    "        self.age = age\n",
    "\n",
    "class Employee(Person):\n",
    "    def __init__(self, name, age, sal):\n",
    "        super().__init__(name, age)\n",
    "        self.salary = sal\n",
    "\n",
    "    def display(self):\n",
    "        print(self.name, self.salary)\n",
    "\n",
    "\n",
    "class Student(Person):\n",
    "    def __init__(self, name, age, marks):\n",
    "        super().__init__(name, age)\n",
    "        self.marks = marks\n",
    "\n",
    "s1 = Student('joy', 25, 90)\n",
    "print(s1.__dict__)\n",
    "\n",
    "e1 = Employee('riya', 30, 10000)\n",
    "print(e1.display())"
   ]
  },
  {
   "cell_type": "code",
   "execution_count": 24,
   "metadata": {},
   "outputs": [
    {
     "name": "stdout",
     "output_type": "stream",
     "text": [
      "Province class constructor called\n",
      "bagmati\n"
     ]
    }
   ],
   "source": [
    "# multiple inheritance - 2 parents, 2 children\n",
    "\n",
    "class Country:\n",
    "    def __init__(self):\n",
    "        print('country class constructor called')\n",
    "        self.office = 'ktm'\n",
    "\n",
    "class Province:\n",
    "    def __init__(self):\n",
    "        print('Province class constructor called')    \n",
    "        self.office = 'bagmati'\n",
    "\n",
    "class District(Province, Country):\n",
    "    pass\n",
    "\n",
    "\n",
    "d = District()\n",
    "print(d.office)"
   ]
  }
 ],
 "metadata": {
  "kernelspec": {
   "display_name": "myproject_kernel",
   "language": "python",
   "name": "myproject_kernel"
  },
  "language_info": {
   "codemirror_mode": {
    "name": "ipython",
    "version": 3
   },
   "file_extension": ".py",
   "mimetype": "text/x-python",
   "name": "python",
   "nbconvert_exporter": "python",
   "pygments_lexer": "ipython3",
   "version": "3.12.4"
  }
 },
 "nbformat": 4,
 "nbformat_minor": 2
}
