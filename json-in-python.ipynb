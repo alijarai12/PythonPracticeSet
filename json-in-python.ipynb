{
 "cells": [
  {
   "cell_type": "markdown",
   "metadata": {},
   "source": [
    "JOSN - Javascript Object Notation"
   ]
  },
  {
   "cell_type": "markdown",
   "metadata": {},
   "source": [
    "It is a data format for storing and exchanging some information. Every language has libraries for parsing and generating json data."
   ]
  },
  {
   "cell_type": "markdown",
   "metadata": {},
   "source": [
    "transfer data/objects from client to server or from one type of application to another. It is used for fetching data from online API's. It is used in web services."
   ]
  },
  {
   "cell_type": "markdown",
   "metadata": {},
   "source": [
    "In Python json data is represented as string.\n",
    "We use json module for this."
   ]
  },
  {
   "cell_type": "code",
   "execution_count": 5,
   "metadata": {},
   "outputs": [
    {
     "name": "stdout",
     "output_type": "stream",
     "text": [
      "{\"name\": \"Nabil\", \"age\": 23, \"ismarried\": false, \"insurance\": null}\n",
      "<class 'str'>\n",
      "[\"Nabil\", 23, false, null]\n",
      "[\"Nabil\", 23, false, null]\n",
      "null\n"
     ]
    }
   ],
   "source": [
    "# To convert python to json:-\n",
    "# dumps() - doesnot create file\n",
    "# dump() - creates file\n",
    "\n",
    "import json\n",
    "data = {'name': 'Nabil', 'age': 23, 'ismarried': False, 'insurance':None }\n",
    "name = \"Nabil\"\n",
    "age = 23\n",
    "\n",
    "\n",
    "\n",
    "print(json.dumps(data))\n",
    "print(type(json.dumps(data)))\n",
    "\n",
    "\n",
    "d = [\"Nabil\", 23, False, None]\n",
    "\n",
    "d1 = (\"Nabil\", 23, False, None)\n",
    "\n",
    "print(json.dumps(d))\n",
    "print(json.dumps(d1))\n",
    "\n",
    "var = None\n",
    "print(json.dumps(var))"
   ]
  },
  {
   "cell_type": "code",
   "execution_count": 7,
   "metadata": {},
   "outputs": [
    {
     "name": "stdout",
     "output_type": "stream",
     "text": [
      "{\n",
      "    \"Ismarried\": false,\n",
      "    \"age\": 23,\n",
      "    \"city\": \"Ktm\",\n",
      "    \"name\": \"Nabil\",\n",
      "    \"number\": 9876543210,\n",
      "    \"subject\": [\n",
      "        \"DSA\",\n",
      "        \"computer graphic\",\n",
      "        \"maths\"\n",
      "    ]\n",
      "}\n",
      "<class 'str'>\n"
     ]
    }
   ],
   "source": [
    "import json\n",
    "\n",
    "data = {\n",
    "    \"age\":23,\n",
    "    \"city\": \"Ktm\",\n",
    "    \"name\": \"Nabil\",\n",
    "    \"number\" : 9876543210,\n",
    "    \"subject\":[\n",
    "        \"DSA\",\n",
    "        \"computer graphic\",\n",
    "        \"maths\"\n",
    "    ],\n",
    "    \"Ismarried\": False\n",
    "\n",
    "}\n",
    "\n",
    "json_data = json.dumps(data, indent=4, separators=( \",\", \": \"), sort_keys=True)\n",
    "\n",
    "\n",
    "print(json_data)\n",
    "print(type(json_data))"
   ]
  },
  {
   "cell_type": "markdown",
   "metadata": {},
   "source": [
    "To convert json to python:-"
   ]
  },
  {
   "cell_type": "code",
   "execution_count": 9,
   "metadata": {},
   "outputs": [
    {
     "name": "stdout",
     "output_type": "stream",
     "text": [
      "{\"age\": 23, \"city\": \"Ktm\", \"name\": \"Nabil\", \"number\": 9876543210, \"subject\": [\"DSA\", \"computer graphic\", \"maths\"], \"Ismarried\": false}\n",
      "<class 'str'>\n",
      "{'age': 23, 'city': 'Ktm', 'name': 'Nabil', 'number': 9876543210, 'subject': ['DSA', 'computer graphic', 'maths'], 'Ismarried': False}\n",
      "<class 'dict'>\n"
     ]
    }
   ],
   "source": [
    "# loads() - doesnot read from file\n",
    "# load() - reads json file\n",
    "\n",
    "import json\n",
    "data = {\n",
    "    \"age\":23,\n",
    "    \"city\": \"Ktm\",\n",
    "    \"name\": \"Nabil\",\n",
    "    \"number\" : 9876543210,\n",
    "    \"subject\":[\n",
    "        \"DSA\",\n",
    "        \"computer graphic\",\n",
    "        \"maths\"\n",
    "    ],\n",
    "    \"Ismarried\": False\n",
    "\n",
    "}\n",
    "\n",
    "json_data= json.dumps(data)\n",
    "print(json_data)\n",
    "print(type(json_data))\n",
    "\n",
    "\n",
    "# Json into python dic\n",
    "data1 = json.loads(json_data)\n",
    "print(data1)\n",
    "print(type(data1))"
   ]
  }
 ],
 "metadata": {
  "kernelspec": {
   "display_name": "myproject_kernel",
   "language": "python",
   "name": "myproject_kernel"
  },
  "language_info": {
   "codemirror_mode": {
    "name": "ipython",
    "version": 3
   },
   "file_extension": ".py",
   "mimetype": "text/x-python",
   "name": "python",
   "nbconvert_exporter": "python",
   "pygments_lexer": "ipython3",
   "version": "3.12.4"
  }
 },
 "nbformat": 4,
 "nbformat_minor": 2
}
